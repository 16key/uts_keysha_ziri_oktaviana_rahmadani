{
 "cells": [
  {
   "cell_type": "code",
   "execution_count": null,
   "id": "c318acb9-78eb-4df5-933c-e578231ee3f7",
   "metadata": {},
   "outputs": [],
   "source": []
  },
  {
   "cell_type": "code",
   "execution_count": null,
   "id": "c21b22cd-8925-4e5b-9d3f-f4af743f771a",
   "metadata": {},
   "outputs": [],
   "source": [
    " data\n",
    "\n",
    "company_name_list = [{'name': 'Company 1'},\n",
    "          {'name': 'Company 2'},\n",
    "          {'name': 'Company 3'}]\n",
    "\n",
    "employee_name_list = [{'name': 'John Doe'},\n",
    "          {'name': 'Tom Smith'},\n",
    "          {'name': 'Andrew Sebastian'}]\n",
    "\n",
    "company_detail_list = {\n",
    "      'Company 1': {\n",
    "          'name': 'Company 1',\n",
    "          'domain': 'Retail',\n",
    "          'clients': [\n",
    "              {\n",
    "                  'name': 'acme.inc',\n",
    "                  'country': 'united states'\n",
    "              },\n",
    "              {\n",
    "                  'name': 'Wayne.co',\n",
    "                  'country': 'united states'\n",
    "              }\n",
    "          ]\n",
    "      },\n",
    "      'Company 2': {\n",
    "          'name': 'Company 2',\n",
    "          'domain': 'Construction',\n",
    "          'clients': [\n",
    "              {\n",
    "                  'name': 'Tesla',\n",
    "                  'country': 'united states'\n",
    "              },\n",
    "              {\n",
    "                  'name': 'Japan Airlines',\n",
    "                  'country': 'japan'\n",
    "              },\n",
    "              {\n",
    "                  'name': 'Indofood',\n",
    "                  'country': 'indonesia'\n",
    "              }\n",
    "          ]\n",
    "      },\n",
    "      'Company 3': {\n",
    "          'name': 'Company 3',\n",
    "          'domain': 'Healthcare',\n",
    "          'clients': [\n",
    "              {\n",
    "                  'name': 'Petronas',\n",
    "                  'country': 'malaysia'\n",
    "              },\n",
    "              {\n",
    "                  'name': 'VW Group',\n",
    "                  'country': 'germany'\n",
    "              },\n",
    "              {\n",
    "                  'name': 'IBM',\n",
    "                  'country': 'united states'\n",
    "              },\n",
    "              {\n",
    "                  'name': 'Mitsubishi',\n",
    "                  'country': 'japan'\n",
    "              }\n",
    "          ]\n",
    "      }\n",
    "  }\n",
    "\n",
    "employee_detail_list = {\n",
    "      'John Doe': {\n",
    "          'name': 'EMP-0001',\n",
    "          'first_name': 'John',\n",
    "          'last_name': 'Doe',\n",
    "          'full_name': 'John Doe',\n",
    "          'company': 'Company 1'\n",
    "      },\n",
    "      'Tom Smith': {\n",
    "          'name': 'EMP-0002',\n",
    "          'first_name': 'Tom',\n",
    "          'last_name': 'Smith',\n",
    "          'full_name': 'Tom Smith',\n",
    "          'company': 'Company 2'\n",
    "      },\n",
    "      'Andrew Sebastian': {\n",
    "          'name': 'EMP-0003',\n",
    "          'first_name': 'Andrew',\n",
    "          'last_name': 'Sebastian',\n",
    "          'full_name': 'Andrew Sebastian',\n",
    "          'company': 'Company 2'\n",
    "      },\n",
    "  }"
   ]
  },
  {
   "cell_type": "code",
   "execution_count": null,
   "id": "e83fe19a-957c-43ae-96b8-387bc768f9ff",
   "metadata": {},
   "outputs": [],
   "source": [
    "Jawaban nomor 1."
   ]
  },
  {
   "cell_type": "code",
   "execution_count": null,
   "id": "c668fe67-963c-4e88-b8b5-e3f2c0cbbbfd",
   "metadata": {},
   "outputs": [],
   "source": []
  },
  {
   "cell_type": "code",
   "execution_count": 6,
   "id": "1a0f175c-2abd-4b89-ae09-d3a52a605fbb",
   "metadata": {},
   "outputs": [
    {
     "name": "stdout",
     "output_type": "stream",
     "text": [
      "Company: Company 2, Domain: California\n",
      "Company: Company 3, Domain: California\n",
      "Company: Company 4, Domain: California\n",
      "Company: Company 5, Domain: Florida\n",
      "Company: Company 1, Domain: Florida\n",
      "Company: Company 6, Domain: New York\n"
     ]
    }
   ],
   "source": [
    "def sort_company():\n",
    "    companies = [\n",
    "        {\n",
    "            \"name\": \"Company 6\",\n",
    "            \"domain\": \"New York\"\n",
    "        },\n",
    "        {\n",
    "            \"name\": \"Company 5\",\n",
    "            \"domain\": \"Florida\"\n",
    "        },\n",
    "        {\n",
    "            \"name\": \"Company 1\",\n",
    "            \"domain\": \"Florida\"\n",
    "        },\n",
    "        {\n",
    "            \"name\": \"Company 2\",\n",
    "            \"domain\": \"California\"\n",
    "        },\n",
    "        {\n",
    "            \"name\": \"Company 3\",\n",
    "            \"domain\": \"California\"\n",
    "        },\n",
    "        {\n",
    "            \"name\": \"Company 4\",\n",
    "            \"domain\": \"California\"\n",
    "        }\n",
    "    ]\n",
    "\n",
    "    # Mengurutkan daftar perusahaan berdasarkan nilai Domain (domain)\n",
    "    sorted_companies = sorted(companies, key=lambda x: x[\"domain\"])\n",
    "\n",
    "    # Mencetak perusahaan yang telah diurutkan\n",
    "    for company in sorted_companies:\n",
    "        print(f\"Company: {company['name']}, Domain: {company['domain']}\")\n",
    "\n",
    "sort_company()\n"
   ]
  },
  {
   "cell_type": "code",
   "execution_count": null,
   "id": "9b8ebadf-1bca-4c49-83d0-eb89fe011c0f",
   "metadata": {},
   "outputs": [],
   "source": [
    "Jawaban nomor 2."
   ]
  },
  {
   "cell_type": "code",
   "execution_count": 9,
   "id": "4a74e9c3-2395-464d-b3a3-20cbd1ee3eb3",
   "metadata": {},
   "outputs": [
    {
     "name": "stdout",
     "output_type": "stream",
     "text": [
      "Company 1: Retail\n",
      "Company 2: Construction\n",
      "Company 3: Healthcare\n"
     ]
    }
   ],
   "source": [
    "# lengkapi function berikut\n",
    "def get_company_domain():\n",
    "    company_domains = {\n",
    "        \"Company 1\": \"Retail\",\n",
    "        \"Company 2\": \"Construction\",\n",
    "        \"Company 3\": \"Healthcare\"\n",
    "    }\n",
    "    \n",
    "    for company, domain in company_domains.items():\n",
    "        print(f\"{company}: {domain}\")\n",
    "\n",
    "# Panggil fungsi untuk mencetak nilai Domain untuk setiap perusahaan\n",
    "get_company_domain()\n"
   ]
  },
  {
   "cell_type": "code",
   "execution_count": null,
   "id": "1c0c9450-cfc8-4839-887f-ad2fa233a48f",
   "metadata": {},
   "outputs": [],
   "source": [
    "nomor 3"
   ]
  },
  {
   "cell_type": "code",
   "execution_count": 30,
   "id": "6a14546b-025f-486d-8c14-8d4fe25832eb",
   "metadata": {},
   "outputs": [
    {
     "name": "stdout",
     "output_type": "stream",
     "text": [
      "[{'full_name': 'John Doe', 'company': 'Company 1', 'domain': 'Retail'}, {'full_name': 'Tom Smith', 'company': 'Company 2', 'domain': 'Construction'}, {'full_name': 'Andrew Sebastian', 'company': 'Company 2', 'domain': 'Construction'}]\n"
     ]
    }
   ],
   "source": [
    "\n",
    "def get_employees_with_domain(employees, company_domains):\n",
    "    # Daftar karyawan beserta domain perusahaan mereka\n",
    "    result = []\n",
    "    for employee in employees:\n",
    "        company = employee[\"company\"]\n",
    "        if company in company_domains:\n",
    "            # Menambahkan informasi domain perusahaan ke setiap karyawan\n",
    "            employee_info = {\n",
    "                \"full_name\": employee[\"full_name\"],\n",
    "                \"company\": company,\n",
    "                \"domain\": company_domains[company]\n",
    "            }\n",
    "            result.append(employee_info)\n",
    "    return result\n",
    "\n",
    "# Data karyawan\n",
    "employees = [{\"full_name\": \"John Doe\", \"company\": \"Company 1\"},\n",
    "             {\"full_name\": \"Tom Smith\", \"company\": \"Company 2\"},\n",
    "             {\"full_name\": \"Andrew Sebastian\", \"company\": \"Company 2\"}]\n",
    "\n",
    "\n",
    "# Memanggil fungsi untuk mendapatkan informasi domain perusahaan\n",
    "company_domains = get_company_domain()\n",
    "\n",
    "# Memanggil fungsi untuk mendapatkan informasi karyawan beserta domain perusahaannya\n",
    "result = get_employees_with_domain(employees, company_domains)\n",
    "\n",
    "# Mencetak hasilnya\n",
    "print(result)\n"
   ]
  },
  {
   "cell_type": "code",
   "execution_count": null,
   "id": "0152d41c-e937-4732-b7bf-88f74a5af126",
   "metadata": {},
   "outputs": [],
   "source": [
    "nomor 4"
   ]
  },
  {
   "cell_type": "code",
   "execution_count": 34,
   "id": "b8cca72a-6f52-418f-b6ba-fcf65c253f2f",
   "metadata": {},
   "outputs": [
    {
     "name": "stdout",
     "output_type": "stream",
     "text": [
      "[{'company': 'Company 1', 'employees': ['John Doe']}, {'company': 'Company 2', 'employees': ['Tom Smith', 'Andrew Sebastian']}]\n"
     ]
    }
   ],
   "source": [
    "def get_companies_with_employees(employees):\n",
    "    companies = {}\n",
    "    for employee in employees:\n",
    "        company = employee[\"company\"]\n",
    "        full_name = employee[\"full_name\"]\n",
    "        if company not in companies:\n",
    "            companies[company] = []\n",
    "        companies[company].append(full_name)\n",
    "    \n",
    "    result = []\n",
    "    for company in sorted(companies.keys()):  # Urutkan berdasarkan nama perusahaan\n",
    "        employees = companies[company]\n",
    "        company_info = {\"company\": company, \"employees\": employees}\n",
    "        result.append(company_info)\n",
    "    \n",
    "    return result\n",
    "\n",
    "# Data karyawan\n",
    "employees = [\n",
    "    {\"full_name\": \"John Doe\", \"company\": \"Company 1\"},\n",
    "    {\"full_name\": \"Tom Smith\", \"company\": \"Company 2\"},\n",
    "    {\"full_name\": \"Andrew Sebastian\", \"company\": \"Company 2\"}\n",
    "]\n",
    "\n",
    "# Panggil fungsi untuk mendapatkan informasi perusahaan beserta daftar karyawan yang bekerja di perusahaan tersebut\n",
    "result = get_companies_with_employees(employees)\n",
    "\n",
    "# Mencetak hasilnya\n",
    "print(result)\n"
   ]
  },
  {
   "cell_type": "code",
   "execution_count": 35,
   "id": "a6521d91-f4d6-4bcd-9b80-7ab26e2dce60",
   "metadata": {},
   "outputs": [
    {
     "data": {
      "text/plain": [
       "'C:\\\\Users\\\\HP\\\\Untitled Folder'"
      ]
     },
     "execution_count": 35,
     "metadata": {},
     "output_type": "execute_result"
    }
   ],
   "source": [
    "import pandas as pd\n",
    "import os\n",
    "\n",
    "os.getcwd()"
   ]
  },
  {
   "cell_type": "code",
   "execution_count": 49,
   "id": "d62c0e93-a3fe-4649-8d8c-3cd85fafc8d2",
   "metadata": {},
   "outputs": [
    {
     "name": "stdout",
     "output_type": "stream",
     "text": [
      "    R&D Spend  Administration  Marketing Spend       State     Profit\n",
      "0   165349.20       136897.80        471784.10    New York  192261.83\n",
      "1   162597.70       151377.59        443898.53  California  191792.06\n",
      "2   153441.51       101145.55        407934.54     Florida  191050.39\n",
      "3   144372.41       118671.85        383199.62    New York  182901.99\n",
      "4   142107.34        91391.77        366168.42     Florida  166187.94\n",
      "5   131876.90        99814.71        362861.36    New York  156991.12\n",
      "6   134615.46       147198.87        127716.82  California  156122.51\n",
      "7   130298.13             NaN        323876.68     Florida  155752.60\n",
      "8   120542.52       148718.95        311613.29    New York  152211.77\n",
      "9   123334.88       108679.17        304981.62  California  149759.96\n",
      "10        NaN       110594.11        229160.95     Florida  146121.95\n",
      "11  100671.96        91790.61        249744.55  California  144259.40\n",
      "12   93863.75       127320.38        249839.44     Florida  141585.52\n",
      "13   91992.39       135495.07        252664.93  California        NaN\n",
      "14  119943.24       156547.42        256512.92     Florida  132602.65\n",
      "15  114523.61       122616.84        261776.23    New York  129917.04\n",
      "16   78013.11       121597.55        264346.06  California  126992.93\n",
      "17   94657.16       145077.58        282574.31    New York  125370.37\n",
      "18   91749.16       114175.79        294919.57     Florida  124266.90\n",
      "19   86419.70       153514.11              NaN    New York  122776.86\n",
      "20   76253.86       113867.30        298664.47  California  118474.03\n",
      "21   78389.47       153773.43        299737.29    New York  111313.02\n",
      "22   73994.56       122782.75        303319.26     Florida  110352.25\n",
      "23        NaN       105751.03              NaN     Florida  108733.99\n",
      "24   77044.01             NaN        140574.81    New York  108552.04\n",
      "25   64664.71       139553.16        137962.62  California  107404.34\n",
      "26   75328.87       144135.98        134050.07     Florida  105733.54\n",
      "27   72107.60       127864.55        353183.81    New York  105008.31\n",
      "28   66051.52       182645.56        118148.20     Florida  103282.38\n",
      "29   65605.48       153032.06        107138.38    New York  101004.64\n",
      "30   61994.48       115641.28         91131.24     Florida   99937.59\n",
      "31        NaN       152701.92         88218.23    New York        NaN\n",
      "32   63408.86       129219.61         46085.25  California   97427.84\n",
      "33   55493.95       103057.49        214634.81     Florida   96778.92\n",
      "34   46426.07       157693.92        210797.67  California   96712.80\n",
      "35   46014.02        85047.44        205517.64    New York   96479.51\n",
      "36   28663.76       127056.21        201126.82     Florida   90708.19\n",
      "37   44069.95             NaN        197029.42  California   89949.14\n",
      "38   20229.59        65947.93              NaN    New York   81229.06\n",
      "39   38558.51        82982.09        174999.30  California   81005.76\n",
      "40   28754.33       118546.05        172795.67  California   78239.91\n",
      "41   27892.92        84710.77        164470.71     Florida   77798.83\n",
      "42   23640.93        96189.63        148001.11  California   71498.49\n",
      "43   15505.73       127382.30         35534.17    New York   69758.98\n",
      "44   22177.74       154806.14         28334.72  California   65200.33\n",
      "45    1000.23       124153.04          1903.93    New York   64926.08\n",
      "46    1315.46       115816.21        297114.46     Florida   49490.75\n",
      "47        NaN       135426.92              NaN  California   42559.73\n",
      "48     542.05        51743.15              NaN    New York   35673.41\n",
      "49        NaN       116983.80         45173.06  California   14681.40\n"
     ]
    }
   ],
   "source": [
    "import pandas as pd\n",
    "\n",
    "# Set option untuk menampilkan seluruh kolom\n",
    "pd.set_option('display.max_columns', None)\n",
    "\n",
    "# Membaca file CSV dengan tanda petik pada nama file\n",
    "df = pd.read_csv('50_Startups.csv')\n",
    "\n",
    "# Menampilkan seluruh data\n",
    "print(df)\n"
   ]
  },
  {
   "cell_type": "code",
   "execution_count": 51,
   "id": "905c5a67-92bc-443c-8a97-1e697680fb02",
   "metadata": {},
   "outputs": [
    {
     "name": "stdout",
     "output_type": "stream",
     "text": [
      "   R&D Spend  Administration  Marketing Spend    Profit  State_Florida  \\\n",
      "0   2.076351        0.554318         2.299248  2.024298            0.0   \n",
      "1   2.011840        1.123258         2.040926  2.012472            0.0   \n",
      "2   1.797168       -0.850460         1.707769  1.993801            1.0   \n",
      "3   1.584537       -0.161817         1.478634  1.788670            0.0   \n",
      "4   1.531431       -1.233706         1.320863  1.367903            1.0   \n",
      "\n",
      "   State_New York       Tax  \n",
      "0             1.0  2.460946  \n",
      "1             0.0  2.361311  \n",
      "2             0.0  1.737043  \n",
      "3             1.0  1.626770  \n",
      "4             0.0  1.188570  \n"
     ]
    },
    {
     "name": "stderr",
     "output_type": "stream",
     "text": [
      "C:\\Users\\HP\\AppData\\Local\\anaconda3\\Lib\\site-packages\\sklearn\\preprocessing\\_encoders.py:868: FutureWarning: `sparse` was renamed to `sparse_output` in version 1.2 and will be removed in 1.4. `sparse_output` is ignored unless you leave `sparse` to its default value.\n",
      "  warnings.warn(\n"
     ]
    }
   ],
   "source": [
    "import pandas as pd\n",
    "from sklearn.preprocessing import OneHotEncoder, StandardScaler\n",
    "from sklearn.impute import SimpleImputer\n",
    "\n",
    "# Membaca data\n",
    "data_startup = pd.read_csv('50_Startups.csv')\n",
    "\n",
    "# Analisis kolom dengan data kosong (NaN) dan isi dengan nilai mean\n",
    "imputer = SimpleImputer(strategy='mean')\n",
    "data_startup[['R&D Spend', 'Administration', 'Marketing Spend', 'Profit']] = imputer.fit_transform(data_startup[['R&D Spend', 'Administration', 'Marketing Spend', 'Profit']])\n",
    "\n",
    "# OneHotEncoder untuk kolom 'State'\n",
    "encoder = OneHotEncoder(sparse=False, drop='first')\n",
    "state_encoded = encoder.fit_transform(data_startup[['State']])\n",
    "state_encoded_df = pd.DataFrame(state_encoded, columns=encoder.get_feature_names_out(['State']))\n",
    "data_startup = pd.concat([data_startup, state_encoded_df], axis=1)\n",
    "data_startup.drop(['State'], axis=1, inplace=True)\n",
    "\n",
    "# Buat kolom baru \"Tax\"\n",
    "data_startup['Tax'] = (data_startup['Profit'] + data_startup['Marketing Spend'] + data_startup['Administration']) * 0.05\n",
    "\n",
    "# StandardScaler\n",
    "scaler = StandardScaler()\n",
    "data_startup[['R&D Spend', 'Administration', 'Marketing Spend', 'Profit', 'Tax']] = scaler.fit_transform(data_startup[['R&D Spend', 'Administration', 'Marketing Spend', 'Profit', 'Tax']])\n",
    "\n",
    "# Tampilkan data setelah pre-processing\n",
    "print(data_startup.head())\n"
   ]
  },
  {
   "cell_type": "code",
   "execution_count": null,
   "id": "cb3ff230-daa8-471f-8b39-e01cf89af09d",
   "metadata": {},
   "outputs": [],
   "source": []
  }
 ],
 "metadata": {
  "kernelspec": {
   "display_name": "Python 3 (ipykernel)",
   "language": "python",
   "name": "python3"
  },
  "language_info": {
   "codemirror_mode": {
    "name": "ipython",
    "version": 3
   },
   "file_extension": ".py",
   "mimetype": "text/x-python",
   "name": "python",
   "nbconvert_exporter": "python",
   "pygments_lexer": "ipython3",
   "version": "3.11.7"
  }
 },
 "nbformat": 4,
 "nbformat_minor": 5
}
